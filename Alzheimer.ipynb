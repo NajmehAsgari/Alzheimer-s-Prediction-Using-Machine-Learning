{
 "cells": [
  {
   "cell_type": "code",
   "execution_count": 1,
   "metadata": {},
   "outputs": [
    {
     "name": "stdout",
     "output_type": "stream",
     "text": [
      "        Country  Age  Gender  Education Level   BMI Physical Activity Level  \\\n",
      "0         Spain   90    Male                1  33.0                  Medium   \n",
      "1     Argentina   72    Male                7  29.9                  Medium   \n",
      "2  South Africa   86  Female               19  22.9                    High   \n",
      "3         China   53    Male               17  31.2                     Low   \n",
      "4        Sweden   58  Female                3  30.0                    High   \n",
      "\n",
      "  Smoking Status Alcohol Consumption Diabetes Hypertension  ...  \\\n",
      "0          Never        Occasionally       No           No  ...   \n",
      "1         Former               Never       No           No  ...   \n",
      "2        Current        Occasionally       No          Yes  ...   \n",
      "3          Never           Regularly      Yes           No  ...   \n",
      "4         Former               Never      Yes           No  ...   \n",
      "\n",
      "  Dietary Habits Air Pollution Exposure  Employment Status Marital Status  \\\n",
      "0        Healthy                   High            Retired         Single   \n",
      "1        Healthy                 Medium         Unemployed        Widowed   \n",
      "2        Average                 Medium           Employed         Single   \n",
      "3        Healthy                 Medium            Retired         Single   \n",
      "4      Unhealthy                   High           Employed        Married   \n",
      "\n",
      "  Genetic Risk Factor (APOE-4 allele) Social Engagement Level Income Level  \\\n",
      "0                                  No                     Low       Medium   \n",
      "1                                  No                    High          Low   \n",
      "2                                  No                     Low       Medium   \n",
      "3                                  No                    High       Medium   \n",
      "4                                  No                     Low       Medium   \n",
      "\n",
      "  Stress Levels Urban vs Rural Living Alzheimers Diagnosis  \n",
      "0          High                 Urban                   No  \n",
      "1          High                 Urban                   No  \n",
      "2          High                 Rural                   No  \n",
      "3           Low                 Rural                   No  \n",
      "4          High                 Rural                   No  \n",
      "\n",
      "[5 rows x 25 columns]\n",
      "Numerical Data Summary:\n",
      "                 Age  Education Level           BMI  Cognitive Test Score\n",
      "count  74283.000000     74283.000000  74283.000000          74283.000000\n",
      "mean      71.964703         9.487514     26.780639             64.654241\n",
      "std       12.980748         5.757020      4.764679             20.153247\n",
      "min       50.000000         0.000000     18.500000             30.000000\n",
      "25%       61.000000         4.000000     22.700000             47.000000\n",
      "50%       72.000000         9.000000     26.800000             65.000000\n",
      "75%       83.000000        14.000000     30.900000             82.000000\n",
      "max       94.000000        19.000000     35.000000             99.000000\n",
      "\n",
      "Categorical Data Summary:\n",
      "        Country  Gender Physical Activity Level Smoking Status  \\\n",
      "count    74283   74283                   74283          74283   \n",
      "unique      20       2                       3              3   \n",
      "top     Brazil  Female                    High        Current   \n",
      "freq      3839   37249                   24853          24915   \n",
      "\n",
      "       Alcohol Consumption Diabetes Hypertension Cholesterol Level  \\\n",
      "count                74283    74283        74283             74283   \n",
      "unique                   3        2            2                 2   \n",
      "top                  Never       No           No            Normal   \n",
      "freq                 24865    59527        52134             51973   \n",
      "\n",
      "       Family History of Alzheimers Depression Level  ... Dietary Habits  \\\n",
      "count                         74283            74283  ...          74283   \n",
      "unique                            2                3  ...              3   \n",
      "top                              No           Medium  ...        Average   \n",
      "freq                          52004            24843  ...          24917   \n",
      "\n",
      "       Air Pollution Exposure Employment Status Marital Status  \\\n",
      "count                   74283             74283          74283   \n",
      "unique                      3                 3              3   \n",
      "top                      High        Unemployed         Single   \n",
      "freq                    24906             24801          25169   \n",
      "\n",
      "       Genetic Risk Factor (APOE-4 allele) Social Engagement Level  \\\n",
      "count                                74283                   74283   \n",
      "unique                                   2                       3   \n",
      "top                                     No                  Medium   \n",
      "freq                                 59561                   24859   \n",
      "\n",
      "       Income Level Stress Levels Urban vs Rural Living Alzheimers Diagnosis  \n",
      "count         74283         74283                 74283                74283  \n",
      "unique            3             3                     2                    2  \n",
      "top             Low        Medium                 Rural                   No  \n",
      "freq          24873         24886                 37203                43570  \n",
      "\n",
      "[4 rows x 21 columns]\n"
     ]
    }
   ],
   "source": [
    "# Import necessary libraries\n",
    "import pandas as pd\n",
    "\n",
    "# Load the dataset\n",
    "data = pd.read_csv('alzheimers_cleaned.csv')\n",
    "print(data.head())\n",
    "\n",
    "# Summary statistics for numerical columns\n",
    "numerical_summary = data.describe()\n",
    "\n",
    "# Summary for categorical columns\n",
    "categorical_summary = data.describe(include='object')\n",
    "\n",
    "# Display results\n",
    "print(\"Numerical Data Summary:\\n\", numerical_summary)\n",
    "print(\"\\nCategorical Data Summary:\\n\", categorical_summary)"
   ]
  },
  {
   "cell_type": "code",
   "execution_count": 2,
   "metadata": {},
   "outputs": [],
   "source": [
    "from sklearn.preprocessing import LabelEncoder\n",
    "le = LabelEncoder()  # Instantiate LabelEncoder\n",
    "for col in ['Country', 'Gender', 'Physical Activity Level', 'Smoking Status',\n",
    "            'Alcohol Consumption', 'Diabetes', 'Hypertension', 'Cholesterol Level',\n",
    "            'Family History of Alzheimers','Depression Level','Sleep Quality',\n",
    "            'Dietary Habits', 'Air Pollution Exposure', 'Employment Status',\n",
    "            'Marital Status', 'Genetic Risk Factor (APOE-4 allele)','Social Engagement Level', 'Income Level',\n",
    "            'Stress Levels', 'Urban vs Rural Living', 'Alzheimers Diagnosis']:\n",
    "    if col in data.columns:  # Check if column exists before encoding\n",
    "        data[col] = le.fit_transform(data[col])\n",
    "    else:\n",
    "        print(f\"Column '{col}' not found in dataset.\")"
   ]
  },
  {
   "cell_type": "code",
   "execution_count": 3,
   "metadata": {},
   "outputs": [],
   "source": [
    "# Define features and target\n",
    "X = data.drop(columns='Alzheimers Diagnosis')\n",
    "y = data['Alzheimers Diagnosis']"
   ]
  },
  {
   "cell_type": "code",
   "execution_count": 4,
   "metadata": {},
   "outputs": [
    {
     "name": "stdout",
     "output_type": "stream",
     "text": [
      "Selected Features: ['Age', 'Family History of Alzheimers', 'Genetic Risk Factor (APOE-4 allele)', 'Income Level', 'Stress Levels']\n"
     ]
    }
   ],
   "source": [
    "# Feature Selection\n",
    "from sklearn.feature_selection import SelectKBest, f_classif\n",
    "selector = SelectKBest(score_func=f_classif, k=5)\n",
    "X_selected = selector.fit_transform(X, y)\n",
    "selected_features = X.columns[selector.get_support()]\n",
    "print(\"Selected Features:\", list(selected_features))"
   ]
  },
  {
   "cell_type": "code",
   "execution_count": 5,
   "metadata": {},
   "outputs": [],
   "source": [
    "from sklearn.model_selection import train_test_split\n",
    "X=data.drop (columns='Alzheimers Diagnosis')\n",
    "y=data['Alzheimers Diagnosis']\n",
    "x_train, x_test, y_train, y_test = train_test_split(X, y, test_size=0.3, random_state=42)"
   ]
  },
  {
   "cell_type": "code",
   "execution_count": 6,
   "metadata": {},
   "outputs": [],
   "source": [
    "from sklearn.preprocessing import MinMaxScaler\n",
    "sc = MinMaxScaler()\n",
    "x_train = sc.fit_transform(x_train)\n",
    "x_test = sc.transform(x_test)"
   ]
  },
  {
   "cell_type": "code",
   "execution_count": 7,
   "metadata": {},
   "outputs": [
    {
     "data": {
      "text/plain": [
       "0.7124523221898138"
      ]
     },
     "execution_count": 7,
     "metadata": {},
     "output_type": "execute_result"
    }
   ],
   "source": [
    "from sklearn.linear_model import LogisticRegression\n",
    "from sklearn.metrics import  accuracy_score\n",
    "model= LogisticRegression (max_iter=1000, random_state=42)\n",
    "model.fit(x_train,y_train)\n",
    "y_pred=model.predict(x_test)\n",
    "acc=accuracy_score(y_test,y_pred)\n",
    "acc"
   ]
  },
  {
   "cell_type": "code",
   "execution_count": 8,
   "metadata": {},
   "outputs": [
    {
     "data": {
      "text/plain": [
       "0.7091317029391968"
      ]
     },
     "execution_count": 8,
     "metadata": {},
     "output_type": "execute_result"
    }
   ],
   "source": [
    "from sklearn.svm import SVC\n",
    "from sklearn.metrics import  accuracy_score\n",
    "model= SVC(random_state=42)\n",
    "model.fit(x_train,y_train)\n",
    "y_pred=model.predict(x_test)\n",
    "acc=accuracy_score(y_test,y_pred)\n",
    "acc"
   ]
  },
  {
   "cell_type": "code",
   "execution_count": 9,
   "metadata": {},
   "outputs": [],
   "source": [
    "# Define models\n",
    "\n",
    "from sklearn.ensemble import RandomForestClassifier\n",
    "from sklearn.tree import DecisionTreeClassifier\n",
    "from sklearn.neighbors import KNeighborsClassifier\n",
    "from sklearn.linear_model import LogisticRegression\n",
    "from sklearn.svm import SVC\n",
    "\n",
    "models = {\n",
    "    'Logistic Regression': LogisticRegression(max_iter=1000, random_state=42),\n",
    "    'SVM': SVC(random_state=42),\n",
    "    'Random Forest': RandomForestClassifier(random_state=42),\n",
    "    'Decision Tree': DecisionTreeClassifier(random_state=42),\n",
    "    'KNN': KNeighborsClassifier()\n",
    "}"
   ]
  },
  {
   "cell_type": "code",
   "execution_count": 10,
   "metadata": {},
   "outputs": [
    {
     "name": "stdout",
     "output_type": "stream",
     "text": [
      "\n",
      "Logistic Regression Accuracy: 0.7125\n",
      "              precision    recall  f1-score   support\n",
      "\n",
      "           0       0.74      0.79      0.76     13065\n",
      "           1       0.67      0.60      0.63      9220\n",
      "\n",
      "    accuracy                           0.71     22285\n",
      "   macro avg       0.70      0.70      0.70     22285\n",
      "weighted avg       0.71      0.71      0.71     22285\n",
      "\n",
      "\n",
      "SVM Accuracy: 0.7091\n",
      "              precision    recall  f1-score   support\n",
      "\n",
      "           0       0.74      0.78      0.76     13065\n",
      "           1       0.66      0.61      0.63      9220\n",
      "\n",
      "    accuracy                           0.71     22285\n",
      "   macro avg       0.70      0.69      0.70     22285\n",
      "weighted avg       0.71      0.71      0.71     22285\n",
      "\n",
      "\n",
      "Random Forest Accuracy: 0.7181\n",
      "              precision    recall  f1-score   support\n",
      "\n",
      "           0       0.75      0.77      0.76     13065\n",
      "           1       0.67      0.64      0.65      9220\n",
      "\n",
      "    accuracy                           0.72     22285\n",
      "   macro avg       0.71      0.71      0.71     22285\n",
      "weighted avg       0.72      0.72      0.72     22285\n",
      "\n",
      "\n",
      "Decision Tree Accuracy: 0.6297\n",
      "              precision    recall  f1-score   support\n",
      "\n",
      "           0       0.69      0.68      0.68     13065\n",
      "           1       0.55      0.56      0.56      9220\n",
      "\n",
      "    accuracy                           0.63     22285\n",
      "   macro avg       0.62      0.62      0.62     22285\n",
      "weighted avg       0.63      0.63      0.63     22285\n",
      "\n",
      "\n",
      "KNN Accuracy: 0.6302\n",
      "              precision    recall  f1-score   support\n",
      "\n",
      "           0       0.67      0.73      0.70     13065\n",
      "           1       0.56      0.49      0.52      9220\n",
      "\n",
      "    accuracy                           0.63     22285\n",
      "   macro avg       0.62      0.61      0.61     22285\n",
      "weighted avg       0.62      0.63      0.63     22285\n",
      "\n"
     ]
    }
   ],
   "source": [
    "# Train and evaluate models\n",
    "from sklearn.metrics import accuracy_score, classification_report, confusion_matrix\n",
    "accuracy_scores = {}\n",
    "for name, model in models.items():\n",
    "    model.fit(x_train, y_train)\n",
    "    y_pred = model.predict(x_test)\n",
    "    acc = accuracy_score(y_test, y_pred)\n",
    "    accuracy_scores[name] = acc\n",
    "    print(f\"\\n{name} Accuracy: {acc:.4f}\")\n",
    "    print(classification_report(y_test, y_pred))"
   ]
  },
  {
   "cell_type": "code",
   "execution_count": 11,
   "metadata": {},
   "outputs": [
    {
     "name": "stdout",
     "output_type": "stream",
     "text": [
      "\n",
      "Logistic Regression Accuracy: 0.7125\n",
      "              precision    recall  f1-score   support\n",
      "\n",
      "           0       0.74      0.79      0.76     13065\n",
      "           1       0.67      0.60      0.63      9220\n",
      "\n",
      "    accuracy                           0.71     22285\n",
      "   macro avg       0.70      0.70      0.70     22285\n",
      "weighted avg       0.71      0.71      0.71     22285\n",
      "\n",
      "\n",
      "SVM Accuracy: 0.7091\n",
      "              precision    recall  f1-score   support\n",
      "\n",
      "           0       0.74      0.78      0.76     13065\n",
      "           1       0.66      0.61      0.63      9220\n",
      "\n",
      "    accuracy                           0.71     22285\n",
      "   macro avg       0.70      0.69      0.70     22285\n",
      "weighted avg       0.71      0.71      0.71     22285\n",
      "\n",
      "\n",
      "Random Forest Accuracy: 0.7181\n",
      "              precision    recall  f1-score   support\n",
      "\n",
      "           0       0.75      0.77      0.76     13065\n",
      "           1       0.67      0.64      0.65      9220\n",
      "\n",
      "    accuracy                           0.72     22285\n",
      "   macro avg       0.71      0.71      0.71     22285\n",
      "weighted avg       0.72      0.72      0.72     22285\n",
      "\n",
      "\n",
      "Decision Tree Accuracy: 0.6297\n",
      "              precision    recall  f1-score   support\n",
      "\n",
      "           0       0.69      0.68      0.68     13065\n",
      "           1       0.55      0.56      0.56      9220\n",
      "\n",
      "    accuracy                           0.63     22285\n",
      "   macro avg       0.62      0.62      0.62     22285\n",
      "weighted avg       0.63      0.63      0.63     22285\n",
      "\n",
      "\n",
      "KNN Accuracy: 0.6302\n",
      "              precision    recall  f1-score   support\n",
      "\n",
      "           0       0.67      0.73      0.70     13065\n",
      "           1       0.56      0.49      0.52      9220\n",
      "\n",
      "    accuracy                           0.63     22285\n",
      "   macro avg       0.62      0.61      0.61     22285\n",
      "weighted avg       0.62      0.63      0.63     22285\n",
      "\n"
     ]
    }
   ],
   "source": [
    "accuracy_scores = {}\n",
    "for name, model in models.items():\n",
    "    model.fit(x_train, y_train)\n",
    "    y_pred = model.predict(x_test)\n",
    "    acc = accuracy_score(y_test, y_pred)\n",
    "    accuracy_scores[name] = acc\n",
    "    print(f\"\\n{name} Accuracy: {acc:.4f}\")\n",
    "    print(classification_report(y_test, y_pred))"
   ]
  },
  {
   "cell_type": "code",
   "execution_count": 12,
   "metadata": {},
   "outputs": [
    {
     "data": {
      "image/png": "[encoded data removed]",
      "text/plain": [
       "<Figure size 500x400 with 2 Axes>"
      ]
     },
     "metadata": {},
     "output_type": "display_data"
    }
   ],
   "source": [
    "import matplotlib.pyplot as plt\n",
    "import seaborn as sns\n",
    "\n",
    "# Confusion matrix plot\n",
    "plt.figure(figsize=(5, 4))  \n",
    "sns.heatmap(confusion_matrix(y_test, y_pred), annot=True, fmt='d', cmap='Blues')\n",
    "plt.title(f'Confusion Matrix - {name}')\n",
    "plt.xlabel('Predicted')\n",
    "plt.ylabel('Actual')\n",
    "plt.show()"
   ]
  }
 ],
 "metadata": {
  "kernelspec": {
   "display_name": "Python 3",
   "language": "python",
   "name": "python3"
  },
  "language_info": {
   "codemirror_mode": {
    "name": "ipython",
    "version": 3
   },
   "file_extension": ".py",
   "mimetype": "text/x-python",
   "name": "python",
   "nbconvert_exporter": "python",
   "pygments_lexer": "ipython3",
   "version": "3.13.2"
  }
 },
 "nbformat": 4,
 "nbformat_minor": 2
}
